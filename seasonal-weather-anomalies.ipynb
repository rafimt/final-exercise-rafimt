{
 "cells": [
  {
   "cell_type": "code",
   "execution_count": null,
   "metadata": {
    "tags": []
   },
   "outputs": [],
   "source": [
    "import pandas as pd\n",
    "import matplotlib.pyplot as plt\n",
    "fp = r'data/2315676.txt'\n",
    "\n",
    "\n",
    "data =pd.read_csv(fp,delim_whitespace=True, na_values=[-9999],skiprows=[1])\n",
    "\n",
    "# YOUR CODE HERE\n",
    "data.head()"
   ]
  },
  {
   "cell_type": "code",
   "execution_count": null,
   "metadata": {
    "tags": []
   },
   "outputs": [],
   "source": [
    "def fahr_to_celsius(temp_fahrenheit):\n",
    "    return (temp_fahrenheit -32) / 1.8\n",
    "data[\"TAVG\"] = (data[\"TMAX\"] + data[\"TMIN\"])/2\n",
    "data[\"TAVG\"] = data[\"TAVG\"].apply(fahr_to_celsius)\n",
    "data.tail()"
   ]
  },
  {
   "cell_type": "code",
   "execution_count": null,
   "metadata": {
    "tags": []
   },
   "outputs": [],
   "source": [
    "def month_to_season(month):\n",
    "    if month in (12, 1, 2):\n",
    "        return 'Winter'\n",
    "    elif month in (3, 4, 5):\n",
    "        return 'Spring'\n",
    "    elif month in (6, 7, 8):\n",
    "        return 'Summer'\n",
    "    elif month in (9, 10, 11):\n",
    "        return 'Autumn'\n",
    "#separating year and season for groupby\n",
    "data[\"season\"] = data[\"DATE\"].astype(str).str.slice(start=4, stop=6).astype(int)\n",
    "data[\"season\"] = data[\"season\"].apply(month_to_season)\n",
    "# data['season'] = data['DATE'].dt.month.apply(month_to_season)\n",
    "data['year'] = data['DATE'].astype(str).str.slice(start=0, stop=4).astype(int)\n",
    "data.head()"
   ]
  },
  {
   "cell_type": "code",
   "execution_count": null,
   "metadata": {
    "tags": []
   },
   "outputs": [],
   "source": [
    "seasonal_temps = data.groupby(['year', 'season'])['TAVG'].mean().unstack() #unstack to simple tabular format\n",
    "print(seasonal_temps.head())"
   ]
  },
  {
   "cell_type": "code",
   "execution_count": null,
   "metadata": {
    "tags": []
   },
   "outputs": [],
   "source": [
    "reference_temps = data[(data['year'] >= 1951) & (data['year'] <= 1980)].groupby('season')['TAVG'].mean()\n",
    "print(reference_temps)"
   ]
  },
  {
   "cell_type": "code",
   "execution_count": null,
   "metadata": {
    "tags": []
   },
   "outputs": [],
   "source": [
    "anomalies = seasonal_temps.subtract(reference_temps, axis=1)\n"
   ]
  },
  {
   "cell_type": "code",
   "execution_count": null,
   "metadata": {
    "tags": []
   },
   "outputs": [],
   "source": [
    "anomalies.head()"
   ]
  },
  {
   "cell_type": "code",
   "execution_count": null,
   "metadata": {},
   "outputs": [],
   "source": [
    "#ChatGPT\n",
    "import matplotlib.pyplot as plt\n",
    "\n",
    "# Plotting while considering NaN values that might cause gaps in the plot\n",
    "anomalies.plot()\n",
    "plt.title('Seasonal Temperature Anomalies')\n",
    "plt.xlabel('Year')\n",
    "plt.ylabel('Temperature Anomaly (°C)')\n",
    "plt.legend(title='Season')\n",
    "plt.grid(True)\n",
    "# plt.show()   #because without commenting does not save\n",
    "plt.savefig(\"temp_anomalies_1.png\")"
   ]
  },
  {
   "cell_type": "code",
   "execution_count": null,
   "metadata": {
    "tags": []
   },
   "outputs": [],
   "source": [
    "#ChatGPT\n",
    "\n",
    "plt.style.use(\"dark_background\")\n",
    "# Assuming 'anomalies' DataFrame has columns for each season\n",
    "fig, axs = plt.subplots(2, 2, figsize=(14, 10))  # Create a 2x2 grid of subplots\n",
    "\n",
    "# Define colors for each season\n",
    "colors = ['blue', 'green', 'red', 'orange']\n",
    "\n",
    "# Plot each season in a separate subplot with a specific color\n",
    "seasons = ['Winter', 'Spring', 'Summer', 'Autumn']\n",
    "for i, season in enumerate(seasons):\n",
    "    ax = axs[i//2, i%2]  # Determine the position of the subplot\n",
    "    ax.plot(anomalies.index, anomalies[season], marker='o', linestyle='-', color=colors[i])\n",
    "    ax.set_title(f'{season} Temperature Anomalies')\n",
    "    ax.set_xlabel('Year')\n",
    "    ax.set_ylabel('Temperature Anomaly (°C)')\n",
    "    ax.grid(True)\n",
    "\n",
    "# Adjust layout to prevent overlap\n",
    "plt.tight_layout()\n",
    "# plt.show()  #because without commenting does not save\n",
    "plt.savefig(\"temp_anomalies_2.png\")"
   ]
  }
 ],
 "metadata": {
  "kernelspec": {
   "display_name": "Python 3 (ipykernel)",
   "language": "python",
   "name": "python3"
  },
  "language_info": {
   "codemirror_mode": {
    "name": "ipython",
    "version": 3
   },
   "file_extension": ".py",
   "mimetype": "text/x-python",
   "name": "python",
   "nbconvert_exporter": "python",
   "pygments_lexer": "ipython3",
   "version": "3.10.10"
  }
 },
 "nbformat": 4,
 "nbformat_minor": 4
}
